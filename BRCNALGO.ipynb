{
 "cells": [
  {
   "cell_type": "code",
   "execution_count": 10,
   "metadata": {},
   "outputs": [],
   "source": [
    "#Algorithm to check Logistic Regression for Breast Cancer\n",
    "from statistics import mean"
   ]
  },
  {
   "cell_type": "code",
   "execution_count": 11,
   "metadata": {},
   "outputs": [],
   "source": [
    "def BrcnCheck(file):\n",
    "    r,c=brcn.shape\n",
    "    ins = []\n",
    "    insm=[]\n",
    "    malig=brcn['Malignancy'].tolist()\n",
    "    #print(malig)\n",
    "    for i in range(r):\n",
    "        part=[]\n",
    "        part=brcn.ix[i].tolist()\n",
    "        del part[-1]\n",
    "        ins.append(part)\n",
    "    mxlst=[]\n",
    "    for i in range(r):\n",
    "        mx=max(ins[i])\n",
    "        mxlst.append(mx)\n",
    "    mn=[]\n",
    "    for i in range(r):\n",
    "        mnval=mean(ins[i])\n",
    "        mn.append(mnval)\n",
    "    mnmn=mean(mn)\n",
    "    fltrmng=[]\n",
    "    fltrmng=[x for x in mn if x > mnmn]\n",
    "    fltrmnl=[]\n",
    "    fltrmnl=[x for x in mn if x < mnmn]\n",
    "    len(fltrmng)\n",
    "    len(fltrmnl)\n",
    "    if len(fltrmng)>len(fltrmnl):\n",
    "        print(\"Malignancy Positive!!\")\n",
    "    else:\n",
    "        print(\"Malignancy Negetive!!Smile!!\")"
   ]
  },
  {
   "cell_type": "code",
   "execution_count": 12,
   "metadata": {},
   "outputs": [
    {
     "name": "stdout",
     "output_type": "stream",
     "text": [
      "Malignancy Negetive!!Smile!!\n"
     ]
    },
    {
     "name": "stderr",
     "output_type": "stream",
     "text": [
      "C:\\Users\\Subhadeep Chakrabort\\Anaconda3\\lib\\site-packages\\ipykernel_launcher.py:9: DeprecationWarning: \n",
      ".ix is deprecated. Please use\n",
      ".loc for label based indexing or\n",
      ".iloc for positional indexing\n",
      "\n",
      "See the documentation here:\n",
      "http://pandas.pydata.org/pandas-docs/stable/indexing.html#ix-indexer-is-deprecated\n",
      "  if __name__ == '__main__':\n"
     ]
    }
   ],
   "source": [
    "import pandas as pd\n",
    "import matplotlib.pyplot as plt\n",
    "import numpy as np\n",
    "\n",
    "brcn = pd.read_excel(\"D:/As a Trainer/OGMA/Python/Study Material Folder/Problem Set/Breast Cancer/breastcancer_training.xlsx\")\n",
    "BrcnCheck(brcn)"
   ]
  },
  {
   "cell_type": "code",
   "execution_count": null,
   "metadata": {},
   "outputs": [],
   "source": [
    "def PrintData(data):\n",
    "    for i in range(r):\n",
    "        print(\"Index no:\"+str(i)+\" \"+\"Value: \"+str(mn[i]))\n",
    " "
   ]
  },
  {
   "cell_type": "code",
   "execution_count": null,
   "metadata": {},
   "outputs": [],
   "source": [
    "def TruePlot():\n",
    "    corx=malig.index(1)\n",
    "    cory=mn[168]      #mean value list\n",
    "    fig = plt.figure(figsize=(20,10))\n",
    "    plt.title('MEAN-PROBABILITY(=1) PLOT')\n",
    "    plt.plot(malig[168:r],\"r\",label='Malignant Probability<=1')\n",
    "    plt.plot(mn[168:r],\"y\",label='Mean value of each instance')\n",
    "    plt.plot(mn[168:r],\"*m\",label='Mean Peak')\n",
    "    plt.legend(loc='lower right')\n",
    "    plt.xlim(0,175,5)\n",
    "    plt.ylim(0, 10,0.2)\n",
    "    plt.xlabel('INSTANCE OR SAMPLE DATA')\n",
    "    plt.ylabel('MEAN OF INSTANCE')\n",
    "    plt.xticks(np.arange(0,170,5))\n",
    "    plt.yticks(np.arange(0,10,0.2))\n",
    "    plt.grid()\n",
    "    plt.savefig(\"D:/As a Trainer/OGMA/Python/Study Material Folder/Problem Set/Breast Cancer/Mean_vs_Probability(1)\")\n",
    "    plt.show()"
   ]
  },
  {
   "cell_type": "code",
   "execution_count": null,
   "metadata": {},
   "outputs": [],
   "source": [
    "def FalseData():\n",
    "    corx=malig.index(1)\n",
    "    cory=mn[168]      #mean value list\n",
    "    fig = plt.figure(figsize=(20,10))\n",
    "    plt.title('MEAN-PROBABILITY PLOT')\n",
    "    plt.plot(malig[0:167],\"g\",label='Malignant Probability<1')\n",
    "    plt.plot(mn[0:167],\"c\",label='Mean value of each instance')\n",
    "    plt.plot(mn[0:167],\"*k\",label='Mean Peak')\n",
    "    plt.legend(loc='lower right')\n",
    "    plt.xlim(0,175,5)\n",
    "    plt.ylim(0, 10,0.2)\n",
    "    plt.xlabel('INSTANCE OR SAMPLE DATA')\n",
    "    plt.ylabel('MEAN OF INSTANCE')\n",
    "    plt.xticks(np.arange(0,170,5))\n",
    "    plt.yticks(np.arange(-1,10,0.2))\n",
    "    plt.grid()\n",
    "    plt.savefig(\"D:/As a Trainer/OGMA/Python/Study Material Folder/Problem Set/Breast Cancer/Mean_vs_Probability(0)\")\n",
    "    plt.show()"
   ]
  },
  {
   "cell_type": "code",
   "execution_count": null,
   "metadata": {},
   "outputs": [],
   "source": []
  }
 ],
 "metadata": {
  "kernelspec": {
   "display_name": "Python 3",
   "language": "python",
   "name": "python3"
  },
  "language_info": {
   "codemirror_mode": {
    "name": "ipython",
    "version": 3
   },
   "file_extension": ".py",
   "mimetype": "text/x-python",
   "name": "python",
   "nbconvert_exporter": "python",
   "pygments_lexer": "ipython3",
   "version": "3.6.5"
  }
 },
 "nbformat": 4,
 "nbformat_minor": 2
}
